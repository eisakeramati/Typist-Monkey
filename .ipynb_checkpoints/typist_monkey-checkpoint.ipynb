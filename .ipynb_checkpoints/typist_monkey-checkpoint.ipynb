{
 "cells": [
  {
   "cell_type": "code",
   "execution_count": 4,
   "metadata": {},
   "outputs": [],
   "source": [
    "#calcScore returns a score that represents how much the 2 strings are alike\n",
    "\n",
    "def calcScore(string, target):\n",
    "    score = 0\n",
    "    for i in range(len(target)):\n",
    "        if (target[i] == string[i]):\n",
    "            score = score + 1\n",
    "        else:\n",
    "            break\n",
    "    return score"
   ]
  },
  {
   "cell_type": "markdown",
   "metadata": {},
   "source": [
    "The method through which we calculate the score of the given string is that if the right character is in the right index of the given string it gets a score, Also they order is imporatant we start from the most left character and if it doesn't match our goal strings first character we break out of the for loop and our given string gets zero score. for example if our goal string is \"tastey apple\":\n",
    "\n",
    "1) \"tasyy orange\" : 3\n",
    "\n",
    "2) \"tsssssssssss\" : 1\n",
    "\n",
    "3) \"aaaakkkkk   \" : 0"
   ]
  },
  {
   "cell_type": "code",
   "execution_count": 5,
   "metadata": {},
   "outputs": [],
   "source": [
    "#generate creates a random string from the given alphabet of the size given to it as input arguement\n",
    "\n",
    "import random\n",
    "def generate(lenS, alphabet):\n",
    "    res=\"\"\n",
    "    for x in range(lenS):\n",
    "        res = res + random.choice(alphabet)\n",
    "    return res"
   ]
  },
  {
   "cell_type": "code",
   "execution_count": 10,
   "metadata": {},
   "outputs": [
    {
     "name": "stdout",
     "output_type": "stream",
     "text": [
      "methiibraxabjeaopizlvqvuhueo 5 100\n",
      "methinkycorhysmzoxxuyupjeir  7 200\n",
      "methinks ijamlyfzbojxbnjtuzf 10 300\n",
      "methinks it i pvylzjjhol nzz 13 400\n",
      "methinks it is lik wuqggytyx 18 500\n",
      "methinks it is like ajcgiivz 21 600\n",
      "methinks it is like a weases 27 700\n",
      "methinks it is like a weasel 28 727\n"
     ]
    },
    {
     "data": {
      "image/png": "[encoded data removed]",
      "text/plain": [
       "<Figure size 432x288 with 1 Axes>"
      ]
     },
     "metadata": {},
     "output_type": "display_data"
    }
   ],
   "source": [
    "#the monkeyTypist function is basically a while loop that keeps generating Strings of characters and caculates their score\n",
    "#(with the help of the above functions) it keeps the track of the best string found so it keeps giving smaller and smaller \n",
    "#input arguements to the generate function to create smaller strings to add to the best string. It also plots the progress\n",
    "#of the function keeps track of the best scores and prints and plots them every 100 cycles\n",
    "\n",
    "import matplotlib.pyplot as plt\n",
    "def monkeyTypist():\n",
    "    target = list(\"methinks it is like a weasel\")\n",
    "    lenS = len(target)\n",
    "    alphabet = list(\"abcdefghijklmnopqrstuvwxyz \")\n",
    "    epoch = 0\n",
    "    bestStr = generate(lenS, alphabet)\n",
    "    bestScore = calcScore(bestStr, target)\n",
    "    it_list = [0]\n",
    "    sc_list = [bestScore]\n",
    "    while bestScore < len(target):\n",
    "        temp = list(bestStr)\n",
    "        for i in range(len(target) - bestScore):\n",
    "            temp.pop()\n",
    "        bestStr2=\"\".join(temp)\n",
    "        if bestScore==len(target):\n",
    "            break\n",
    "        newStr = generate(lenS - bestScore, alphabet)\n",
    "        newStr = bestStr2 + newStr\n",
    "        newScore = calcScore(newStr, target)\n",
    "        if newScore > bestScore:\n",
    "            bestScore = newScore\n",
    "            bestStr = newStr\n",
    "            sc_list.append((bestScore)*(100)/(len(bestStr)))\n",
    "            it_list.append(epoch)\n",
    "        if epoch%100 == 0 and epoch != 0:\n",
    "            print(\"%s %d %d\" % (\"\".join(bestStr), bestScore, epoch))\n",
    "        epoch = epoch+1\n",
    "    print(\"%s %d %d\" % (\"\".join(bestStr), bestScore, epoch))\n",
    "    plt.plot(it_list, sc_list, 'ro')\n",
    "    plt.xlabel('Number of Iterations', fontsize=12)\n",
    "    plt.ylabel('score of the best String', fontsize=12)\n",
    "    plt.show()\n",
    "monkeyTypist()"
   ]
  },
  {
   "cell_type": "code",
   "execution_count": null,
   "metadata": {},
   "outputs": [],
   "source": []
  }
 ],
 "metadata": {
  "kernelspec": {
   "display_name": "Python 2",
   "language": "python",
   "name": "python2"
  },
  "language_info": {
   "codemirror_mode": {
    "name": "ipython",
    "version": 2
   },
   "file_extension": ".py",
   "mimetype": "text/x-python",
   "name": "python",
   "nbconvert_exporter": "python",
   "pygments_lexer": "ipython2",
   "version": "2.7.15"
  }
 },
 "nbformat": 4,
 "nbformat_minor": 2
}
