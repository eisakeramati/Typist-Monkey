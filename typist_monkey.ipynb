{
 "cells": [
  {
   "cell_type": "code",
   "execution_count": 30,
   "metadata": {},
   "outputs": [],
   "source": [
    "#calcScore returns a score that represents how much the 2 strings are alike\n",
    "def calcScore(string, target):\n",
    "    score = 0\n",
    "    for i in range(len(target)):\n",
    "        if (target[i] == string[i]):\n",
    "            score = score + 1\n",
    "        else:\n",
    "            break\n",
    "    return score"
   ]
  },
  {
   "cell_type": "code",
   "execution_count": 31,
   "metadata": {},
   "outputs": [],
   "source": [
    "#generate only change a random character in random in our best string\n",
    "import random\n",
    "def generate(lenS, alphabet):\n",
    "    res=\"\"\n",
    "    for x in range(lenS):\n",
    "        res = res + random.choice(alphabet)\n",
    "    return res"
   ]
  },
  {
   "cell_type": "code",
   "execution_count": 34,
   "metadata": {},
   "outputs": [
    {
     "name": "stdout",
     "output_type": "stream",
     "text": [
      "methizxdwkceomhsnblzxqsstvv  5 100\n",
      "methinks cwkxayfsilyqbhwfw i 9 200\n",
      "methinks it isydkmltdprgcxph 14 300\n",
      "methinks it is liixarwrmzvrw 17 400\n",
      "methinks it is liketbfl lhk  19 500\n",
      "methinks it is like a xeauug 22 600\n",
      "methinks it is like a wefgq  24 700\n",
      "methinks it is like a weasek 27 800\n",
      "methinks it is like a weasel 28 812\n"
     ]
    },
    {
     "data": {
      "image/png": "[encoded data removed]",
      "text/plain": [
       "<Figure size 432x288 with 1 Axes>"
      ]
     },
     "metadata": {},
     "output_type": "display_data"
    }
   ],
   "source": [
    "import matplotlib.pyplot as plt\n",
    "\n",
    "def monkeyTypist():\n",
    "    target = list(\"methinks it is like a weasel\")\n",
    "    lenS = len(target)\n",
    "    alphabet = list(\"abcdefghijklmnopqrstuvwxyz \")\n",
    "    epoch = 0\n",
    "    bestStr = generate(lenS, alphabet)\n",
    "    bestScore = calcScore(bestStr, target)\n",
    "    it_list = [0]\n",
    "    sc_list = [bestScore]\n",
    "    while bestScore < len(target):\n",
    "        temp = list(bestStr)\n",
    "        for i in range(len(target) - bestScore):\n",
    "            temp.pop()\n",
    "        bestStr2=\"\".join(temp)\n",
    "        if bestScore==len(target):\n",
    "            break\n",
    "        newStr = generate(lenS - bestScore, alphabet)\n",
    "        newStr = bestStr2 + newStr\n",
    "        newScore = calcScore(newStr, target)\n",
    "        if newScore > bestScore:\n",
    "            bestScore = newScore\n",
    "            bestStr = newStr\n",
    "            sc_list.append(bestScore)\n",
    "            it_list.append(epoch)\n",
    "        if epoch%100 == 0 and epoch != 0:\n",
    "            print(\"%s %d %d\" % (\"\".join(bestStr), bestScore, epoch))\n",
    "        epoch = epoch+1\n",
    "    print(\"%s %d %d\" % (\"\".join(bestStr), bestScore, epoch))\n",
    "    plt.plot(it_list, sc_list, 'ro')\n",
    "    plt.show()\n",
    "monkeyTypist()"
   ]
  },
  {
   "cell_type": "code",
   "execution_count": null,
   "metadata": {},
   "outputs": [],
   "source": []
  }
 ],
 "metadata": {
  "kernelspec": {
   "display_name": "Python 2",
   "language": "python",
   "name": "python2"
  },
  "language_info": {
   "codemirror_mode": {
    "name": "ipython",
    "version": 2
   },
   "file_extension": ".py",
   "mimetype": "text/x-python",
   "name": "python",
   "nbconvert_exporter": "python",
   "pygments_lexer": "ipython2",
   "version": "2.7.15"
  }
 },
 "nbformat": 4,
 "nbformat_minor": 2
}
